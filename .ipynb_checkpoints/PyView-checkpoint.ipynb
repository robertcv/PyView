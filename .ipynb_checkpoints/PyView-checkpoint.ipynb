{
 "cells": [
  {
   "cell_type": "code",
   "execution_count": 128,
   "metadata": {
    "collapsed": false
   },
   "outputs": [],
   "source": [
    "import pandas\n",
    "import numpy as np\n",
    "%matplotlib inline\n",
    "import matplotlib.pyplot as plt\n",
    "\n",
    "class PyView:\n",
    "    \n",
    "    # loading data from excel file\n",
    "    def __init__ (self, excelFile) :\n",
    "        self.cost = dict()\n",
    "        self.weights = dict ()\n",
    "        self.data = pandas.read_excel(excelFile)\n",
    "        self.converted_data = self.data.copy()\n",
    "\n",
    "    # add attribut as parameter to set cost function for it\n",
    "    # and add function of your own to calculate attributs in data\n",
    "    def insertCost (self, attribut, fun):\n",
    "        if attribut not in self.data.columns:\n",
    "            print (\"Attribut doesn't exist in data!\")\n",
    "            return\n",
    "        self.cost[attribut] = fun\n",
    "    \n",
    "    # inserting weights to attribut\n",
    "    def insertWeight (self, attribut, weight):\n",
    "        if attribut not in self.data.columns:\n",
    "            print (\"Attribut doesn't exist in data!\")\n",
    "            return\n",
    "        self.weights[attribut] = weight\n",
    "        \n",
    "    # converting attributes with cost functions    \n",
    "    def convertCosts (self):\n",
    "        keys = list( self.cost.keys() )\n",
    "\n",
    "        if len(keys) == 0:\n",
    "            print (\"No cost function inserted\")\n",
    "            return\n",
    "        \n",
    "        # going through all inserted attributes\n",
    "        for key in keys:\n",
    "            \n",
    "            # converting current value with inserted function witch is saved in costs\n",
    "            for value in range(0, len(self.data[key])):\n",
    "                self.data[key][value] = self.cost[key] (self.data[key][value])\n",
    "    \n",
    "    # muptiply each value in data with his weight\n",
    "    def convertWeights (self):\n",
    "        keys = list ( self.weights.keys())\n",
    "        \n",
    "        for key in keys:\n",
    "            \n",
    "            for value in range (0, len( self.data[key])):\n",
    "                self.converted_data[key][value] = self.data[key][value] * self.weights[key] \n",
    "    \n",
    "    # returns result of each row       \n",
    "    def result (self):\n",
    "        # all columns in our data\n",
    "        keys = list( self.converted_data.columns.values)\n",
    "        # preparing array of zeros with length of first column\n",
    "        res = [0] * len ( self.converted_data[keys[0]])\n",
    "        \n",
    "        for key in keys:\n",
    "            for index in range (0, len( self.data[key])):\n",
    "                res[index] += self.converted_data[key][index]\n",
    "        \n",
    "        return res\n",
    "    \n",
    "    def showDiagram (self, attribut):\n",
    "        \n",
    "        size = len( self.converted_data[attribut])\n",
    "        \n",
    "        plt.figure ()\n",
    "        \n",
    "        results = self.result()\n",
    "        \n",
    "        for index in range(0, size):\n",
    "            \n",
    "            weight = self.weights[attribut]\n",
    "            cost = self.data[attribut][index]\n",
    "            \n",
    "            plt.plot ([0, 1], [PyView.linear(weight, results[index], 1, cost, 0), cost], 'r')\n",
    "            \n",
    "        plt.show()\n",
    "        \n",
    "        \n",
    "        \n",
    "        \n",
    "    # display data in table\n",
    "    def displayData (self):\n",
    "        print (self.data)\n",
    "    \n",
    "    # display cost of each added attribut in insertCost\n",
    "    def displayCosts (self):\n",
    "        keys = list(self.cost.keys())\n",
    "        \n",
    "        for key in keys:\n",
    "            print (key + \" \" + str(self.cost[key](self.data[key][0])))\n",
    "    \n",
    "    # display weights of each added attribute in insertWeight\n",
    "    def displayWeights (self):\n",
    "        keys = list(self.weights.keys())\n",
    "        \n",
    "        for key in keys:\n",
    "            print (key + \": \" + self.weights[key])\n",
    "    \n",
    "    # displaing all values of attribut in our data\n",
    "    def displayAttribut (self, attribut):\n",
    "        print (self.data[attribut])\n",
    "        \n",
    "    # function used in creation of cost functions for each attribut\n",
    "    def linear (x1, y1, x2, y2, x):\n",
    "        m = (y2 - y1) / (x2 - x1)\n",
    "        b = y1 - m * x1\n",
    "        return m*x + b"
   ]
  },
  {
   "cell_type": "code",
   "execution_count": 129,
   "metadata": {
    "collapsed": false
   },
   "outputs": [
    {
     "data": {
      "text/html": [
       "<div>\n",
       "<table border=\"1\" class=\"dataframe\">\n",
       "  <thead>\n",
       "    <tr style=\"text-align: right;\">\n",
       "      <th></th>\n",
       "      <th>Nadstropje</th>\n",
       "      <th>Cena</th>\n",
       "      <th>Udobje</th>\n",
       "      <th>Velikost sobe</th>\n",
       "      <th>Na vrhu stavbe</th>\n",
       "    </tr>\n",
       "  </thead>\n",
       "  <tbody>\n",
       "    <tr>\n",
       "      <th>0</th>\n",
       "      <td>5</td>\n",
       "      <td>160</td>\n",
       "      <td>8</td>\n",
       "      <td>15</td>\n",
       "      <td>1</td>\n",
       "    </tr>\n",
       "    <tr>\n",
       "      <th>1</th>\n",
       "      <td>2</td>\n",
       "      <td>150</td>\n",
       "      <td>7</td>\n",
       "      <td>13</td>\n",
       "      <td>1</td>\n",
       "    </tr>\n",
       "    <tr>\n",
       "      <th>2</th>\n",
       "      <td>4</td>\n",
       "      <td>100</td>\n",
       "      <td>7</td>\n",
       "      <td>8</td>\n",
       "      <td>0</td>\n",
       "    </tr>\n",
       "    <tr>\n",
       "      <th>3</th>\n",
       "      <td>5</td>\n",
       "      <td>170</td>\n",
       "      <td>6</td>\n",
       "      <td>20</td>\n",
       "      <td>0</td>\n",
       "    </tr>\n",
       "    <tr>\n",
       "      <th>4</th>\n",
       "      <td>3</td>\n",
       "      <td>180</td>\n",
       "      <td>8</td>\n",
       "      <td>15</td>\n",
       "      <td>1</td>\n",
       "    </tr>\n",
       "  </tbody>\n",
       "</table>\n",
       "</div>"
      ],
      "text/plain": [
       "   Nadstropje  Cena  Udobje  Velikost sobe  Na vrhu stavbe\n",
       "0           5   160       8             15               1\n",
       "1           2   150       7             13               1\n",
       "2           4   100       7              8               0\n",
       "3           5   170       6             20               0\n",
       "4           3   180       8             15               1"
      ]
     },
     "execution_count": 129,
     "metadata": {},
     "output_type": "execute_result"
    }
   ],
   "source": [
    "test = PyView (\"test example.xlsx\")\n",
    "test.data"
   ]
  },
  {
   "cell_type": "code",
   "execution_count": 130,
   "metadata": {
    "collapsed": false
   },
   "outputs": [],
   "source": [
    "# example of creating cost functions\n",
    "def cena (x):\n",
    "    if x <= 100:\n",
    "        return 100\n",
    "    elif x > 100 & x <= 200:\n",
    "        return PyView.linear(100, 100, 200, 0, x)\n",
    "    else:\n",
    "        return 0\n",
    "    \n",
    "def vrh (x):\n",
    "    if x == 1:\n",
    "        return 100\n",
    "    else:\n",
    "        return 0\n",
    "\n",
    "def soba (x):\n",
    "    return PyView.linear(8, 0, 20, 100, x)\n",
    "\n",
    "def udobje (x):\n",
    "    return PyView.linear(0, 0, 10, 100, x)\n",
    "\n",
    "def nadstropje (x):\n",
    "    if x < 2:\n",
    "        return 0\n",
    "    elif x > 5:\n",
    "        return 0\n",
    "    else:\n",
    "        return PyView.linear(5, 10, 2, 100, x)\n",
    "    "
   ]
  },
  {
   "cell_type": "code",
   "execution_count": 131,
   "metadata": {
    "collapsed": true
   },
   "outputs": [],
   "source": [
    "# insert cost functions\n",
    "test.insertCost(\"Nadstropje\", nadstropje)\n",
    "test.insertCost(\"Cena\", cena)\n",
    "test.insertCost(\"Udobje\", udobje)\n",
    "test.insertCost(\"Velikost sobe\", soba)\n",
    "test.insertCost(\"Na vrhu stavbe\", vrh)"
   ]
  },
  {
   "cell_type": "code",
   "execution_count": 132,
   "metadata": {
    "collapsed": false
   },
   "outputs": [],
   "source": [
    "test.convertCosts()"
   ]
  },
  {
   "cell_type": "code",
   "execution_count": 133,
   "metadata": {
    "collapsed": false
   },
   "outputs": [
    {
     "data": {
      "text/html": [
       "<div>\n",
       "<table border=\"1\" class=\"dataframe\">\n",
       "  <thead>\n",
       "    <tr style=\"text-align: right;\">\n",
       "      <th></th>\n",
       "      <th>Nadstropje</th>\n",
       "      <th>Cena</th>\n",
       "      <th>Udobje</th>\n",
       "      <th>Velikost sobe</th>\n",
       "      <th>Na vrhu stavbe</th>\n",
       "    </tr>\n",
       "  </thead>\n",
       "  <tbody>\n",
       "    <tr>\n",
       "      <th>0</th>\n",
       "      <td>10</td>\n",
       "      <td>40</td>\n",
       "      <td>80</td>\n",
       "      <td>58</td>\n",
       "      <td>100</td>\n",
       "    </tr>\n",
       "    <tr>\n",
       "      <th>1</th>\n",
       "      <td>100</td>\n",
       "      <td>50</td>\n",
       "      <td>70</td>\n",
       "      <td>41</td>\n",
       "      <td>100</td>\n",
       "    </tr>\n",
       "    <tr>\n",
       "      <th>2</th>\n",
       "      <td>40</td>\n",
       "      <td>100</td>\n",
       "      <td>70</td>\n",
       "      <td>0</td>\n",
       "      <td>0</td>\n",
       "    </tr>\n",
       "    <tr>\n",
       "      <th>3</th>\n",
       "      <td>10</td>\n",
       "      <td>30</td>\n",
       "      <td>60</td>\n",
       "      <td>100</td>\n",
       "      <td>0</td>\n",
       "    </tr>\n",
       "    <tr>\n",
       "      <th>4</th>\n",
       "      <td>70</td>\n",
       "      <td>20</td>\n",
       "      <td>80</td>\n",
       "      <td>58</td>\n",
       "      <td>100</td>\n",
       "    </tr>\n",
       "  </tbody>\n",
       "</table>\n",
       "</div>"
      ],
      "text/plain": [
       "   Nadstropje  Cena  Udobje  Velikost sobe  Na vrhu stavbe\n",
       "0          10    40      80             58             100\n",
       "1         100    50      70             41             100\n",
       "2          40   100      70              0               0\n",
       "3          10    30      60            100               0\n",
       "4          70    20      80             58             100"
      ]
     },
     "execution_count": 133,
     "metadata": {},
     "output_type": "execute_result"
    }
   ],
   "source": [
    "test.data"
   ]
  },
  {
   "cell_type": "code",
   "execution_count": 134,
   "metadata": {
    "collapsed": true
   },
   "outputs": [],
   "source": [
    "test.insertWeight(\"Nadstropje\", 0.15)\n",
    "test.insertWeight(\"Cena\", 0.30)\n",
    "test.insertWeight(\"Udobje\", 0.20)\n",
    "test.insertWeight(\"Velikost sobe\", 0.20)\n",
    "test.insertWeight(\"Na vrhu stavbe\", 0.15)"
   ]
  },
  {
   "cell_type": "code",
   "execution_count": 135,
   "metadata": {
    "collapsed": true
   },
   "outputs": [],
   "source": [
    "test.convertWeights()"
   ]
  },
  {
   "cell_type": "code",
   "execution_count": 136,
   "metadata": {
    "collapsed": false
   },
   "outputs": [
    {
     "data": {
      "text/html": [
       "<div>\n",
       "<table border=\"1\" class=\"dataframe\">\n",
       "  <thead>\n",
       "    <tr style=\"text-align: right;\">\n",
       "      <th></th>\n",
       "      <th>Nadstropje</th>\n",
       "      <th>Cena</th>\n",
       "      <th>Udobje</th>\n",
       "      <th>Velikost sobe</th>\n",
       "      <th>Na vrhu stavbe</th>\n",
       "    </tr>\n",
       "  </thead>\n",
       "  <tbody>\n",
       "    <tr>\n",
       "      <th>0</th>\n",
       "      <td>1</td>\n",
       "      <td>12</td>\n",
       "      <td>16</td>\n",
       "      <td>11</td>\n",
       "      <td>15</td>\n",
       "    </tr>\n",
       "    <tr>\n",
       "      <th>1</th>\n",
       "      <td>15</td>\n",
       "      <td>15</td>\n",
       "      <td>14</td>\n",
       "      <td>8</td>\n",
       "      <td>15</td>\n",
       "    </tr>\n",
       "    <tr>\n",
       "      <th>2</th>\n",
       "      <td>6</td>\n",
       "      <td>30</td>\n",
       "      <td>14</td>\n",
       "      <td>0</td>\n",
       "      <td>0</td>\n",
       "    </tr>\n",
       "    <tr>\n",
       "      <th>3</th>\n",
       "      <td>1</td>\n",
       "      <td>9</td>\n",
       "      <td>12</td>\n",
       "      <td>20</td>\n",
       "      <td>0</td>\n",
       "    </tr>\n",
       "    <tr>\n",
       "      <th>4</th>\n",
       "      <td>10</td>\n",
       "      <td>6</td>\n",
       "      <td>16</td>\n",
       "      <td>11</td>\n",
       "      <td>15</td>\n",
       "    </tr>\n",
       "  </tbody>\n",
       "</table>\n",
       "</div>"
      ],
      "text/plain": [
       "   Nadstropje  Cena  Udobje  Velikost sobe  Na vrhu stavbe\n",
       "0           1    12      16             11              15\n",
       "1          15    15      14              8              15\n",
       "2           6    30      14              0               0\n",
       "3           1     9      12             20               0\n",
       "4          10     6      16             11              15"
      ]
     },
     "execution_count": 136,
     "metadata": {},
     "output_type": "execute_result"
    }
   ],
   "source": [
    "test.converted_data"
   ]
  },
  {
   "cell_type": "code",
   "execution_count": 123,
   "metadata": {
    "collapsed": false
   },
   "outputs": [
    {
     "data": {
      "text/plain": [
       "[55, 67, 50, 42, 58]"
      ]
     },
     "execution_count": 123,
     "metadata": {},
     "output_type": "execute_result"
    }
   ],
   "source": [
    "test.result()"
   ]
  },
  {
   "cell_type": "code",
   "execution_count": 87,
   "metadata": {
    "collapsed": false
   },
   "outputs": [
    {
     "data": {
      "image/png": "[encoded data removed]",
      "text/plain": [
       "<matplotlib.figure.Figure at 0x1154b1128>"
      ]
     },
     "metadata": {},
     "output_type": "display_data"
    }
   ],
   "source": [
    "test.showDiagram (\"Nadstropje\")"
   ]
  },
  {
   "cell_type": "code",
   "execution_count": 145,
   "metadata": {
    "collapsed": false
   },
   "outputs": [
    {
     "data": {
      "image/png": "[encoded data removed]",
      "text/plain": [
       "<matplotlib.figure.Figure at 0x115bebf60>"
      ]
     },
     "metadata": {},
     "output_type": "display_data"
    }
   ],
   "source": [
    "plt.figure (1)\n",
    "plt.plot([0, 1], [PyView.linear (1, 100, 0.2, 100, 0), 58], 'r')\n",
    "plt.show()"
   ]
  },
  {
   "cell_type": "code",
   "execution_count": null,
   "metadata": {
    "collapsed": true
   },
   "outputs": [],
   "source": []
  }
 ],
 "metadata": {
  "anaconda-cloud": {},
  "kernelspec": {
   "display_name": "Python [default]",
   "language": "python",
   "name": "python3"
  },
  "language_info": {
   "codemirror_mode": {
    "name": "ipython",
    "version": 3
   },
   "file_extension": ".py",
   "mimetype": "text/x-python",
   "name": "python",
   "nbconvert_exporter": "python",
   "pygments_lexer": "ipython3",
   "version": "3.5.2"
  }
 },
 "nbformat": 4,
 "nbformat_minor": 0
}
